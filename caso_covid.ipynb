{
  "nbformat": 4,
  "nbformat_minor": 0,
  "metadata": {
    "colab": {
      "provenance": []
    },
    "kernelspec": {
      "name": "python3",
      "display_name": "Python 3"
    },
    "language_info": {
      "name": "python"
    }
  },
  "cells": [
    {
      "cell_type": "markdown",
      "source": [
        "Puntos:\n",
        "Challenge:\n",
        "● Descargar el Dataset Covid-19 en\n",
        "https://www.kaggle.com/datasets/imdevskp/corona-virus-report.\n",
        "● Cargar los datasets utilizando Spark y mantenerlos en formato parquet (Utilizar los recursos de paralelismo y RDD).\n",
        "● Cargar los datasets utilizando Pandas y mantenerlos en formato parquet.\n",
        "● Desarrollar un diagrama DER del modelado de datos.\n",
        "\n",
        "Entregable:\n",
        "● Entregar el proceso y sus datos en archivos zip (No necesita entregar el\n",
        "ambiente armado).\n",
        "● Puedes publicarlo en Github también\n",
        "Para Spark, se debe utilizar RDD.\n",
        "● Hay que hacer comentarios en las partes importantes de código.\n",
        "● Hay que hacer orientado a objetos (Clases en notebooks).\n",
        "● Hay que tratar los tipos de datos en la ultima capa (Ej: Todo que es número,\n",
        "debe ser número, no string).\n",
        "● Hay que tener un control de datos (Para cada procesamiento, sacar\n",
        "solamente las novedades (offset - Delta de datos)).\n",
        "● Puede ser Python o Scala.\n",
        "\n"
      ],
      "metadata": {
        "id": "puJDx-3HC0hj"
      }
    },
    {
      "cell_type": "code",
      "source": [
        "#!pip install pyspark"
      ],
      "metadata": {
        "id": "s6ZTAKoSrf3m"
      },
      "execution_count": 1,
      "outputs": []
    },
    {
      "cell_type": "code",
      "source": [
        "import pandas as pd\n",
        "from pyspark.sql import SparkSession\n",
        "from pyspark.sql.functions import col"
      ],
      "metadata": {
        "id": "hhQhC5w-ao16"
      },
      "execution_count": 1,
      "outputs": []
    },
    {
      "cell_type": "code",
      "execution_count": 2,
      "metadata": {
        "id": "w9yvONoWq9AD"
      },
      "outputs": [],
      "source": [
        "archivos_csv = ['country_wise_latest.csv', 'covid_19_clean_complete.csv', 'day_wise.csv', 'full_grouped.csv', 'usa_county_wise.csv','worldometer_data.csv']\n",
        "\n",
        "# Conversión de csv a parquet para reducir tamaño de archivo y aminorar el costo de procesamiento\n",
        "for idx, archivo in enumerate(archivos_csv):\n",
        "    df_pandas = pd.read_csv(archivo)\n",
        "    nombre_archivo_parquet = f\"archivo_{idx + 1}.parquet\"\n",
        "    df_pandas.to_parquet(nombre_archivo_parquet)\n"
      ]
    },
    {
      "cell_type": "code",
      "source": [
        "class ProcesamientoParquet:\n",
        "    def __init__(self, file_path):\n",
        "        self.file_path = file_path\n",
        "        self.spark = SparkSession.builder.appName(\"Procesamiento Parquet\").getOrCreate()\n",
        "        self.df = self.leer_archivo_parquet()\n",
        "\n",
        "    def leer_archivo_parquet(self):\n",
        "        return self.spark.read.parquet(self.file_path)\n",
        "\n",
        "    def convertir_columna_a_float(self, row):\n",
        "        row_dict = row.asDict()\n",
        "        row_dict['Deaths'] = float(row_dict['Deaths'])\n",
        "        return row_dict\n",
        "\n",
        "    def convertir_deaths_a_float(self):\n",
        "        rdd = self.df.rdd\n",
        "        rdd_modificado = rdd.map(self.convertir_columna_a_float)\n",
        "        return rdd_modificado\n",
        "\n",
        "    def comparar_dataframes(self):\n",
        "        \"\"\"\n",
        "        Offset/Control de datos\n",
        "        \"\"\"\n",
        "        df_original = self.leer_archivo_parquet()\n",
        "        df_modificado = self.df\n",
        "\n",
        "        df_diff = df_original.subtract(df_modificado)\n",
        "        return df_diff\n",
        "\n",
        "    def procesar_archivo_parquet(self):\n",
        "        rdd_modificado = self.convertir_deaths_a_float()\n",
        "        self.spark.stop()\n",
        "\n",
        "    def verificar_proceso_exitoso(self):\n",
        "        return True\n",
        "\n",
        "    def eliminar_primera_fila(self):\n",
        "        print(\"Número de filas antes de eliminar la primera fila:\", self.df.count())\n",
        "        df_sin_primera_fila = self.df.limit(self.df.count() - 1)\n",
        "        print(\"Número de filas después de eliminar la primera fila:\", df_sin_primera_fila.count())\n",
        "        return df_sin_primera_fila\n",
        "\n",
        "file_path = 'archivo_1.parquet'\n",
        "procesamiento = ProcesamientoParquet(file_path)\n",
        "df_sin_primera_fila = procesamiento.eliminar_primera_fila()\n",
        "exitoso = procesamiento.verificar_proceso_exitoso()\n",
        "\n",
        "if exitoso:\n",
        "    print(\"El proceso se ha ejecutado correctamente.\")\n",
        "    procesamiento.comparar_dataframes()\n",
        "else:\n",
        "    print(\"Hubo un problema durante el procesamiento.\")"
      ],
      "metadata": {
        "colab": {
          "base_uri": "https://localhost:8080/"
        },
        "id": "k7EyrgbFbexY",
        "outputId": "e5f130af-4b16-4fb0-d07d-d64fe56f5694"
      },
      "execution_count": 16,
      "outputs": [
        {
          "output_type": "stream",
          "name": "stdout",
          "text": [
            "Número de filas antes de eliminar la primera fila: 187\n",
            "Número de filas después de eliminar la primera fila: 186\n",
            "El proceso se ha ejecutado correctamente.\n"
          ]
        }
      ]
    },
    {
      "cell_type": "markdown",
      "source": [
        "Recomendaciones:\n",
        "\n",
        "*   Para la generación de comentarios, en vez de generarlo por línea sugiero generarlo por función (PEP-8), algo similar a lo que se realizó con la función offset.\n",
        "*   Para fines didacticos se realizo el codigo con comentarios en espanol pero en entornos productivos lo ideal es en ingles.\n",
        "*   Se convirtió del archivo_1.parquet, la columna Death y se especifico que sea de tipo float con RDD.\n",
        "*   Cabe señalar que los archivos de origen son estructurados y spark se comporta de mejor manera usando Spark SQL para las transformaciones y RDD está más enfocado a procesos más simples y con una estructura distinta por ejemplo un log de json.\n",
        "*   También se podría especificar que Spark intuya los tipos de columnas pero no es una práctica recomendada y sobre todo en entornos de producción.\n"
      ],
      "metadata": {
        "id": "BR3eAhGFZOJl"
      }
    }
  ]
}